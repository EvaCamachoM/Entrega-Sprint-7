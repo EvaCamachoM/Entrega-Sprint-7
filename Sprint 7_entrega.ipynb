{
 "cells": [
  {
   "cell_type": "markdown",
   "metadata": {},
   "source": [
    "<span style=\"color: blue; font-family: Verdana; font-size: 16px; font-weight: bold;\">Exercici 1 - Nivell 1:\n",
    "\n",
    "Calculadora de l'índex de massa corporal\n",
    "\n",
    "Escriu una funció que calculi l'IMC ingressat per l'usuari/ària, és a dir, qui ho executi haurà d'ingressar aquestes dades.\n",
    "\n",
    "-> Índice de masa corporal IMC que es y como se calcula:\n",
    "\n",
    "https://muysalud.com/salud/indice-de-masa-corporal-imc-que-es-y-como-se-calcula/\n",
    "\n",
    "La funció ha de classificar el resultat en les seves respectives categories"
   ]
  },
  {
   "cell_type": "markdown",
   "metadata": {},
   "source": [
    "1. En primer lugar, defino una función que servirá para pedir los datos  necesariosal usuario para el cálculo del IMC (peso/altura).\n",
    "El formato de los datos deberá ser tipo float y con punto decimal en lugar de coma. Si el usuario introduce un valor incorrecto (por ejemplo, usando una coma en lugar de un punto o un valor que no sea numérico), se mostrará un mensaje de error y volverá a pedir el dato en el formato correcto. La función devolverá peso y altura listos para usarlos en la siguiente función."
   ]
  },
  {
   "cell_type": "code",
   "execution_count": 1,
   "metadata": {},
   "outputs": [],
   "source": [
    "def solicitar_peso_altura():\n",
    "    while True:\n",
    "        try:\n",
    "            peso = float(input('Introduzca su peso en Kgs (use punto como decimal, ej. 70.5): '))\n",
    "            break\n",
    "        except ValueError:\n",
    "            print('Error: Formato erróneo. Por favor, introduzca su peso en Kgs (use punto como decimal, ej. 70.5):')\n",
    "    \n",
    "    while True:\n",
    "        try:\n",
    "            altura = float(input('Introduzca su altura en metros (use punto como decimal, ej. 1.75): '))\n",
    "            break\n",
    "        except ValueError:\n",
    "            print('Error: Formato erróneo. Por favor, introduzca su altura en metros (use punto como decimal, ej. 1.75):')\n",
    "    \n",
    "    return peso, altura"
   ]
  },
  {
   "cell_type": "markdown",
   "metadata": {},
   "source": [
    "2. En esta nueva función se recibirán los parámetros peso y altura proporcionados por el usuario y los aplicará a la fórmula del índice de masa corporal (imc) devolviendo el resultado calculado que representa el IMC del usuario:"
   ]
  },
  {
   "cell_type": "code",
   "execution_count": 2,
   "metadata": {},
   "outputs": [],
   "source": [
    "def calculo_imc(peso, altura):\n",
    "    imc = round(peso / (altura * altura), 2) \n",
    "    return imc"
   ]
  },
  {
   "cell_type": "markdown",
   "metadata": {},
   "source": [
    "3. La siguiente función recibe el imc y lo categoriza dependiendo del rango en el que se encuentre imprimiendo un mensaje de salida indicando dicha categoría. El mensaje de salida se imprimirá en la ejecución de la función principal al final del bloque:"
   ]
  },
  {
   "cell_type": "code",
   "execution_count": 3,
   "metadata": {},
   "outputs": [],
   "source": [
    "def obtener_categoria(imc):\n",
    "    if imc < 18.5:\n",
    "        categoria = 'Peso bajo.'\n",
    "    elif 18.5 <= imc < 24.9:\n",
    "        categoria = 'Peso normal.'\n",
    "    elif 25 <= imc < 29.9:\n",
    "        categoria = 'Sobrepeso.'\n",
    "    else:\n",
    "        categoria = 'Obesidad.'\n",
    "    return categoria"
   ]
  },
  {
   "cell_type": "markdown",
   "metadata": {},
   "source": [
    "4. En esta otra función, defino el diseño de los mensajes de salida, recibe los parámetros \"imc\" y \"categoria\" y los devuelve en dos mensajes de salida diferentes:"
   ]
  },
  {
   "cell_type": "code",
   "execution_count": 4,
   "metadata": {},
   "outputs": [],
   "source": [
    "def print_imc(imc, categoria):\n",
    "    print('Resultado IMC:', imc)\n",
    "    print('Categoría:', categoria)"
   ]
  },
  {
   "cell_type": "markdown",
   "metadata": {},
   "source": [
    "5. Defino una última función cuyo objetivo es coordinar todo el proceso llamando a cada una de las funciones auxiliares en su orden correspondiente:"
   ]
  },
  {
   "cell_type": "code",
   "execution_count": 5,
   "metadata": {},
   "outputs": [],
   "source": [
    "def resultado_IMC():\n",
    "    peso, altura = solicitar_peso_altura() \n",
    "    imc = calculo_imc(peso, altura)\n",
    "    categoria = obtener_categoria(imc)\n",
    "    print_imc(imc, categoria)"
   ]
  },
  {
   "cell_type": "markdown",
   "metadata": {},
   "source": [
    "6. Para finalizar, llamo a la función global:"
   ]
  },
  {
   "cell_type": "code",
   "execution_count": 6,
   "metadata": {},
   "outputs": [
    {
     "name": "stdout",
     "output_type": "stream",
     "text": [
      "Resultado IMC: 24.77\n",
      "Categoría: Peso normal.\n"
     ]
    }
   ],
   "source": [
    "resultado_IMC()"
   ]
  },
  {
   "cell_type": "markdown",
   "metadata": {},
   "source": [
    "<span style=\"color: blue; font-family: Verdana; font-size: 16px; font-weight: bold;\">Exercici 2 - Nivell 1:\n",
    "\n",
    "Convertidor de temperatures.\n",
    "\n",
    "Existeixen diverses unitats de temperatura utilitzades en diferents contextos i regions. Les més comunes són Celsius (°C), Fahrenheit (°F) i Kelvin (K). També existeixen altres unitats com Rankine (°Ra) i Réaumur (°Re). Selecciona almenys 2 conversors, de tal manera que en introduir una temperatura retorni, com a mínim, dues conversions."
   ]
  },
  {
   "cell_type": "markdown",
   "metadata": {},
   "source": [
    "1. Defino función que solicita al usuario la temperatura en grados Celsius y la devuelve:"
   ]
  },
  {
   "cell_type": "code",
   "execution_count": 7,
   "metadata": {},
   "outputs": [],
   "source": [
    "def solicitar_temperatura():\n",
    "    grados = float(input('Introduzca temperatura en grados Celsius: '))  \n",
    "    return grados  "
   ]
  },
  {
   "cell_type": "markdown",
   "metadata": {},
   "source": [
    "2. Segunda función que recibe temperatura en celsius mediante input del usuario y la devuelve en dos medidas diferentes: K y F:"
   ]
  },
  {
   "cell_type": "code",
   "execution_count": 8,
   "metadata": {},
   "outputs": [],
   "source": [
    "def conversor_temperatura(grados): \n",
    "    K = round(grados+273.15,2) #fórmula para convertir la temperatur de celsius a kelvin\n",
    "    F = round((grados*9/5+32),2) #fórmula para convertir la temperatura de celsius a fahrenheit\n",
    "    return K,F \n",
    "\n",
    "# FÓRMULAS:\n",
    "# 1ºC = 274.15ºK --> FÓRMULA: 1 °C + 273,15 = 274,15 K\n",
    "# 1ºC = 38.22ºF  --> FÓRMULA: (1 °C × 9 / 5) + 32) = 38.22"
   ]
  },
  {
   "cell_type": "markdown",
   "metadata": {},
   "source": [
    "3. Función que imprime la temperatura en Celsius recibida mediante input y sus equivalentes en Kelvin y Fahrenheit:"
   ]
  },
  {
   "cell_type": "code",
   "execution_count": 9,
   "metadata": {},
   "outputs": [],
   "source": [
    "def print_temperatura(grados, K, F):\n",
    "    print('Temperatura:', grados, 'ºC')\n",
    "    print('Equivale a:', K, 'ºK y:', F, 'ºF')"
   ]
  },
  {
   "cell_type": "markdown",
   "metadata": {},
   "source": [
    "4. Función que engloba el resto de funciones auxiliares y las llamará en su orden correspondiente:"
   ]
  },
  {
   "cell_type": "code",
   "execution_count": 10,
   "metadata": {},
   "outputs": [],
   "source": [
    "def resultado_conversor_temperatura():\n",
    "    grados = solicitar_temperatura()  \n",
    "    K, F = conversor_temperatura(grados)  \n",
    "    print_temperatura(grados, K, F)  "
   ]
  },
  {
   "cell_type": "markdown",
   "metadata": {},
   "source": [
    "5. Llamada a la función principal:"
   ]
  },
  {
   "cell_type": "code",
   "execution_count": 11,
   "metadata": {},
   "outputs": [
    {
     "name": "stdout",
     "output_type": "stream",
     "text": [
      "Temperatura: 30.0 ºC\n",
      "Equivale a: 303.15 ºK y: 86.0 ºF\n"
     ]
    }
   ],
   "source": [
    "resultado_conversor_temperatura()"
   ]
  },
  {
   "cell_type": "markdown",
   "metadata": {},
   "source": [
    "<span style=\"color: blue; font-family: Verdana; font-size: 16px; font-weight: bold;\">Exercici 3 - Nivell 1:\n",
    "\n",
    "Comptador de paraules d'un text.\n",
    "\n",
    "Escriu una funció que donat un text, mostri les vegades que apareix cada paraula."
   ]
  },
  {
   "cell_type": "markdown",
   "metadata": {},
   "source": [
    "Creo un función principal \"contar_palabras\" que recibe un texto y devuelve un diccionario con el número de veces que aparece cada palabra en dicho texto. Para ello, crearé diferentes funciones auxiliares para cada una de las acciones hasta llegar al resultado final."
   ]
  },
  {
   "cell_type": "markdown",
   "metadata": {},
   "source": [
    "1. El primer paso es crear una función para pedir el texto al usuario mediante un input:"
   ]
  },
  {
   "cell_type": "code",
   "execution_count": 12,
   "metadata": {},
   "outputs": [],
   "source": [
    "def solicitar_texto():\n",
    "    texto = input('Introduzca el texto a analizar por favor:')\n",
    "    return texto\n",
    "\n",
    "#texto prueba: me han dicho que he dicho un dicho y ese dicho no lo he dicho yo porque si lo hubiera dicho estaría muy bien dicho por haberlo dicho yo"
   ]
  },
  {
   "cell_type": "markdown",
   "metadata": {},
   "source": [
    "2. La siguiente función \"contar_palabras\" recibe el texto que devuelve la función anterior y lo divide en palabras o subcadenas usando la función \"split\". El separador entre palabras, en este caso, será el espacio en blanco. Si quisieramos usar algún signo de puntuación como divisor, por ejemplo una coma, se debería indicar entre los paréntesis. El resultado se guarda en la variable \"palabras\":"
   ]
  },
  {
   "cell_type": "code",
   "execution_count": 13,
   "metadata": {},
   "outputs": [],
   "source": [
    "def split_texto(texto): #función contar_palabras que recibe un texto y devuelve un diccionario con el número de veces que aparece cada palabra en dicho texto\n",
    "    palabras = texto.split() #divido la cadena en subcadenas o palabras con el delimitador espacio y las guardo en la variable \"palabras\"\n",
    "    return palabras"
   ]
  },
  {
   "cell_type": "markdown",
   "metadata": {},
   "source": [
    "3. En la siguiente variable, creo uan estructura de control que definirá como debe ser construido el nuevo diccionario. Recibe una lista de palabras y las transforma en un diccionario donde las claves son las palabras de la lista y los valores son la cantidad de veces que aparece cada palabra:"
   ]
  },
  {
   "cell_type": "code",
   "execution_count": 14,
   "metadata": {},
   "outputs": [],
   "source": [
    "def conteo_palabras(palabras):\n",
    "    nuevo_diccionario = {}\n",
    "    for palabra in palabras: #iteración sobre cada palabra (subcadena) de la lista \"palabras\":\n",
    "        if palabra not in nuevo_diccionario: #si no se encuentra la palabra en el diccionario significa que es la primera vez que la detecta, entonces:\n",
    "            nuevo_diccionario[palabra] = 1 #la añade al diccionario nuevo_diccionario y le asigna un valor inicial de 1. La palabra será la key el recuento el valor.\n",
    "        else: #si la encuentra, significa que ya la detecto en la primera iteración y entonces:\n",
    "            nuevo_diccionario[palabra] += 1 #suma 1 al contador (valor) de la palabra encontrada\n",
    "    return nuevo_diccionario #devolución del diccionario resultante"
   ]
  },
  {
   "cell_type": "markdown",
   "metadata": {},
   "source": [
    "4. Función que definirá los mensajes de salida cambiando el formato para mejor la legibilidad:"
   ]
  },
  {
   "cell_type": "code",
   "execution_count": 15,
   "metadata": {},
   "outputs": [],
   "source": [
    "def print_nuevo_diccionario(nuevo_diccionario):\n",
    "    for palabra, nuevo_diccionario in nuevo_diccionario.items(): #bucle para iterar sobre cada par (K,V) del diccionario y desempaquetarlos en 2 valores separados:palabra y recuento\n",
    "        print(f\"{palabra}: {nuevo_diccionario}\") #impresión del diccionario cambiando su formato (k:v) a vertical\n"
   ]
  },
  {
   "cell_type": "markdown",
   "metadata": {},
   "source": [
    "5. Función final que engloba el resto de funciones auxiliares y que irá ejecutando en su orden correspondiente:"
   ]
  },
  {
   "cell_type": "code",
   "execution_count": 16,
   "metadata": {},
   "outputs": [],
   "source": [
    "def resultado_contador_palabras():\n",
    "    texto = solicitar_texto()\n",
    "    palabras = split_texto(texto)\n",
    "    nuevo_diccionario = conteo_palabras(palabras)\n",
    "    print_nuevo_diccionario(nuevo_diccionario)\n"
   ]
  },
  {
   "cell_type": "markdown",
   "metadata": {},
   "source": [
    "6. Por último llamada a la función final para obtener el resultado:"
   ]
  },
  {
   "cell_type": "code",
   "execution_count": 18,
   "metadata": {},
   "outputs": [
    {
     "name": "stdout",
     "output_type": "stream",
     "text": [
      "me: 1\n",
      "han: 1\n",
      "dicho: 8\n",
      "que: 1\n",
      "he: 2\n",
      "un: 1\n",
      "y: 1\n",
      "ese: 1\n",
      "no: 1\n",
      "lo: 2\n",
      "yo: 2\n",
      "porque: 1\n",
      "si: 1\n",
      "hubiera: 1\n",
      "estaría: 1\n",
      "muy: 1\n",
      "bien: 1\n",
      "por: 1\n",
      "haberlo: 1\n"
     ]
    }
   ],
   "source": [
    "resultado_contador_palabras()"
   ]
  },
  {
   "cell_type": "markdown",
   "metadata": {},
   "source": [
    "<span style=\"color: blue; font-family: Verdana; font-size: 16px; font-weight: bold;\">Exercici 4 - Nivell 1:\n",
    "\n",
    "Diccionari invers.\n",
    "\n",
    "Resulta que el client té una enquesta molt antiga que s'emmagatzema en un diccionari i els resultats els necessita al revés, és a dir, intercanviats les claus i els valors. Els valors i claus en el diccionari original són únics; si aquest no és el cas, la funció hauria d'imprimir un missatge d'advertiment.\n",
    "\n",
    "![Exercici_4_N1](Imagenes/Exercici_4_N1.png)"
   ]
  },
  {
   "cell_type": "markdown",
   "metadata": {},
   "source": [
    "Para resolver este ejercico, creo las siguientes 4 funciones:\n",
    "\n",
    "1. Función para detectar valores duplicados en el diccionario.\n",
    "2. Función para invertir el diccionario si no hay duplicados.\n",
    "3. Función para imprimir los mensajes de salida según el resultado.\n",
    "4. Función final que engloba al resto de funciones auxiliares."
   ]
  },
  {
   "cell_type": "markdown",
   "metadata": {},
   "source": [
    "En primer lugar, creo dos diccionarios: uno con valores reptidos y otro con valores únicos. Los pasaré como argumento a la función para comprobar su funcionamiento en ambos casos:"
   ]
  },
  {
   "cell_type": "code",
   "execution_count": 19,
   "metadata": {},
   "outputs": [],
   "source": [
    "dic_clientes = {'nombre': 'Andres','edad': 45,'email': 'andres@gmail.com','departamento': 'marketing'} #sin duplicados\n",
    "\n",
    "dic_clientes2 = {'nombre': 'Andres','edad': 45,'edad2':45,'email': 'andres@gmail.com','departamento': 'marketing'} #con valor duplicado"
   ]
  },
  {
   "cell_type": "markdown",
   "metadata": {},
   "source": [
    "1. Definición de la primera función que, pasándole un diccionario como argumento, comprobará si contiene valores duplicados. Devolverá \"True\" en el caso de detectar duplicados o \"False\" en el caso de no encontrarlos:"
   ]
  },
  {
   "cell_type": "code",
   "execution_count": 20,
   "metadata": {},
   "outputs": [],
   "source": [
    "def detectar_duplicados(dic_clientes):\n",
    "    valores_unicos = set() #variable que contiene conjunto vacío para almacenar valores únicos\n",
    "    for value in dic_clientes.values(): #bucle que recorre los valores del diccionario, en cada iteración:\n",
    "        if value in valores_unicos: #si los valores se encuentran ya en el conjunto, devuelve \"True\" y sale de la función\n",
    "            return True  #hay duplicados\n",
    "        valores_unicos.add(value) #si durante la iteracion, encuentra por primera vez un valor, lo añade al conjunto y, al finalizar, devolverá \"False\"\n",
    "    return False  #no hay duplicados"
   ]
  },
  {
   "cell_type": "markdown",
   "metadata": {},
   "source": [
    "2. La segunda función se ejecuta sólo si el resultado de la anterior es \"False\" lo cuál significa que no hay valores duplicados en el diccionario y se invierten claves y valores. Con el operador \"not\" se invierte el resultado de la función \"detectar_duplicados\". Si el resultado es \"True\", entonces \"not True == False\" y se ejecuta la función inviertiendo el diccionario. En caso contrario \"False\" sería \"not false == True\" en cuyo caso significa que existen duplicados y no se ejecuta la función:"
   ]
  },
  {
   "cell_type": "code",
   "execution_count": 21,
   "metadata": {},
   "outputs": [],
   "source": [
    "def invertir_diccionario(dic_clientes):\n",
    "    if not detectar_duplicados(dic_clientes):\n",
    "        return {value: key for key, value in dic_clientes.items()}\n",
    "    else:\n",
    "        return None"
   ]
  },
  {
   "cell_type": "markdown",
   "metadata": {},
   "source": [
    "3. Función para imprimir los mensajes de salida según el resultado:"
   ]
  },
  {
   "cell_type": "code",
   "execution_count": 22,
   "metadata": {},
   "outputs": [],
   "source": [
    "def imprimir_mensaje(dic_clientes, resultado):\n",
    "    if resultado is not None:\n",
    "        print('Diccionario invertido:', resultado)\n",
    "    else:\n",
    "        print('Error: más de una clave para el mismo valor.')"
   ]
  },
  {
   "cell_type": "markdown",
   "metadata": {},
   "source": [
    "4. Función final que engloba el resto de funciones auxiliares:"
   ]
  },
  {
   "cell_type": "code",
   "execution_count": 23,
   "metadata": {},
   "outputs": [],
   "source": [
    "def resultado_dic_inverso(dic_clientes):\n",
    "    detectar_duplicados(dic_clientes)\n",
    "    resultado=invertir_diccionario(dic_clientes)\n",
    "    imprimir_mensaje(dic_clientes, resultado)"
   ]
  },
  {
   "cell_type": "markdown",
   "metadata": {},
   "source": [
    "Para finalizar, llamo a la función final dos veces: una pasandole el diccionario que contiene valores duplicados y otra pasandole el que solo tiene valores únicos:"
   ]
  },
  {
   "cell_type": "code",
   "execution_count": 24,
   "metadata": {},
   "outputs": [
    {
     "name": "stdout",
     "output_type": "stream",
     "text": [
      "Diccionario original sin duplicados: {'nombre': 'Andres', 'edad': 45, 'email': 'andres@gmail.com', 'departamento': 'marketing'}\n",
      "Diccionario invertido: {'Andres': 'nombre', 45: 'edad', 'andres@gmail.com': 'email', 'marketing': 'departamento'}\n",
      "...\n",
      "Diccionario original con duplicados: {'nombre': 'Andres', 'edad': 45, 'edad2': 45, 'email': 'andres@gmail.com', 'departamento': 'marketing'}\n",
      "Error: más de una clave para el mismo valor.\n"
     ]
    }
   ],
   "source": [
    "print('Diccionario original sin duplicados:',dic_clientes)\n",
    "resultado_dic_inverso(dic_clientes)\n",
    "print('...')\n",
    "print('Diccionario original con duplicados:',dic_clientes2)\n",
    "resultado_dic_inverso(dic_clientes2)"
   ]
  },
  {
   "cell_type": "markdown",
   "metadata": {},
   "source": [
    "<span style=\"color: blue; font-family: Verdana; font-size: 16px; font-weight: bold;\">Exercici 1 - Nivell 2:\n",
    "\n",
    "Diccionari invers amb duplicats.\n",
    "\n",
    "Continuant amb l'exercici 4 del nivell 1: el client es va oblidar de comentar un detall i resulta que els valors en el diccionari original poden duplicar-se i més, per la qual cosa les claus intercanviades poden tenir duplicats. En aquest cas, en l'exercici anterior imprimies un missatge d'advertiment, ara, els valors del diccionari resultant hauran d'emmagatzemar-se com una llista. Tingues en compte que si és un valor únic no ha de ser una llista.\n",
    "\n",
    "![Exercici_1_N2](Imagenes/Exercici_1_N2.png)"
   ]
  },
  {
   "cell_type": "markdown",
   "metadata": {},
   "source": [
    "Para resolver este ejercicio, usaré las funciones \"detectar_duplicados\" e \"invertir_diccionario\" del ejercicio 4 del nivel 1 y, para completarlo, crearé un nueva función que, al pasarle un diccionario, invierta sus claves y valores. En el caso de encontrar valores duplicados, que igualmente lo invierta pero agrupando en una sublista las diferentes claves (que serán valores en el invertido) asociadas al mismo valor duplicado (que será clave en el invertido)."
   ]
  },
  {
   "cell_type": "code",
   "execution_count": 25,
   "metadata": {},
   "outputs": [],
   "source": [
    "def dic_invertido_sublista(dic_clientes2): #invierte las claves y valores de un diccionario, y si encuentra valores duplicados, los agrupa en una sublista\n",
    "    if detectar_duplicados: #si el resultado de la función detectar_duplicados es Verdadero, significa que hay valores duplicados y entonces:\n",
    "        dic_invertido2 = {} #nuevo diccionario vacío donde se almacenarán los valores invertidos\n",
    "        for key, value in dic_clientes2.items(): #inicia un bucle y recorre cada par k:v del diccionario original dic_clientes2\n",
    "            if value in dic_invertido2: #si el valor ya existe como clave en el diccionario invertido, entonces:\n",
    "                if isinstance(dic_invertido2[value], list): #se asocia a una sublista y:\n",
    "                    dic_invertido2[value].append(key)  #se añade la clave a la nueva sublista asociada al valor repetido\n",
    "                else: #si el valor no se detecta como duplicado (es la primera vez que se itera y se detecta):\n",
    "                    dic_invertido2[value] = [dic_invertido2[value], key] #convierte el valor en clave en el nuevo diccionario\n",
    "            else: #si el valor no existe en dic_invertido2 \n",
    "                dic_invertido2[value] = key #se agrega como clave al diccionario invertido y se asigna clave original como valor\n",
    "        return dic_invertido2"
   ]
  },
  {
   "cell_type": "markdown",
   "metadata": {},
   "source": [
    "Por último, llamo a todas las funciones y a sus resultado al bloque principal para imprimir el mensaje de salida:"
   ]
  },
  {
   "cell_type": "code",
   "execution_count": 26,
   "metadata": {},
   "outputs": [
    {
     "name": "stdout",
     "output_type": "stream",
     "text": [
      "Diccionario original: {'nombre': 'Andres', 'edad': 45, 'edad2': 45, 'email': 'andres@gmail.com', 'departamento': 'marketing'}\n",
      "...\n",
      "Diccionario con sublista de valores: {'Andres': 'nombre', 45: ['edad', 'edad2'], 'andres@gmail.com': 'email', 'marketing': 'departamento'}\n"
     ]
    }
   ],
   "source": [
    "resultado1 = detectar_duplicados(dic_clientes2)\n",
    "resultado2 = invertir_diccionario(dic_clientes2)\n",
    "resultado3 = dic_invertido_sublista(dic_clientes2)\n",
    "\n",
    "print('Diccionario original:', dic_clientes2)\n",
    "print('...')\n",
    "print('Diccionario con sublista de valores:',resultado3)"
   ]
  },
  {
   "cell_type": "markdown",
   "metadata": {},
   "source": [
    "<span style=\"color: blue; font-family: Verdana; font-size: 16px; font-weight: bold;\">Exercici 2 - Nivell 2:\n",
    "\n",
    "Conversió de tipus de dades.\n",
    "\n",
    "El client rep una llista de dades i necessita generar dues llistes, la primera on estaran tots els elements que es van poder convertir en flotants i l'altra on estan els elements que no es van poder convertir. Exemple de la llista que rep el client: \n",
    "\n",
    "conversion = [ '1.3', 'one' , '1e10' , 'seven', '3-1/2', ('2',1,1.4,'not-a-number'), [1,2,'3','3.4']]\n",
    "\n",
    "![Exercici_2_N2](Imagenes/Exercici_2_N2.png)"
   ]
  },
  {
   "cell_type": "markdown",
   "metadata": {},
   "source": [
    "Para la resolución de este ejercicio, crearé una función que recibiendo una lista de elementos variados, que puede contener cadenas de texto, números en distintos formatos, listas y tuplas, intenta convertir cada elemento a tipo float. \n",
    "\n",
    "Devolverá 2 listas: una que contenga los valores float convertidos y otra con los no convertibles:"
   ]
  },
  {
   "cell_type": "code",
   "execution_count": 40,
   "metadata": {},
   "outputs": [],
   "source": [
    "conversion = ['1.3', 'one', '1e10', 'seven', '3-1/2', ('2', 1, 1.4, 'not-a-number'), [1, 2, '3', '3.4']]\n",
    "\n",
    "floats = []\n",
    "no_floats = []\n",
    "\n",
    "def convertir_floats(conversion): #recibe una lista, la analiza y devuelve dos listas: una con elementos convertibles en float y otra con el resto.\n",
    "    while conversion: #bucle para iterar sobre la lista conversion, en cada iteración:\n",
    "        elemento = conversion.pop(0)  #extrae y elimina el primer elemento de la lista conversion y lo inserta en la lista elemento para procesarlo\n",
    "        try: #intenta convertir el elemento extraido a la lista floats conviertiendolo a formato float, si puede:\n",
    "            floats.append(float(elemento)) #lo añade\n",
    "        except (ValueError, TypeError): #si se produce un error en el intento de conversión, entonces:\n",
    "            if isinstance(elemento, (list, tuple)): #verifica si es una lista o una tupla anidada dentro de la llista conversion\n",
    "                conversion.extend(elemento) #itera dentro de las listas u tuplas anidades y extrae los subelementos y los añade a la variable elemento para que entre en el bucle de intento de conversión        \n",
    "            else: #si los subelementos añadidos no son convertibles:\n",
    "                no_floats.append(elemento) #los añade a no_floats  \n",
    "    return floats, no_floats #devuelve las dos listas resultantes"
   ]
  },
  {
   "cell_type": "markdown",
   "metadata": {},
   "source": [
    "Llamada a la función al bloque principal e impresion de la lista original y las 2 nuevas con los resultados:"
   ]
  },
  {
   "cell_type": "code",
   "execution_count": 41,
   "metadata": {},
   "outputs": [
    {
     "name": "stdout",
     "output_type": "stream",
     "text": [
      "Lista original: ['1.3', 'one', '1e10', 'seven', '3-1/2', ('2', 1, 1.4, 'not-a-number'), [1, 2, '3', '3.4']]\n",
      "Lista 1 valores float: [1.3, 10000000000.0, 2.0, 1.0, 1.4, 1.0, 2.0, 3.0, 3.4]\n",
      "Lista 2 valores no float: ['one', 'seven', '3-1/2', 'not-a-number']\n"
     ]
    }
   ],
   "source": [
    "conversion = ['1.3', 'one', '1e10', 'seven', '3-1/2', ('2', 1, 1.4, 'not-a-number'), [1, 2, '3', '3.4']]\n",
    "print('Lista original:',conversion)\n",
    "floats = []\n",
    "no_floats = []\n",
    "\n",
    "convertir_floats(conversion)\n",
    "\n",
    "\n",
    "print('Lista 1 valores float:', floats)\n",
    "print('Lista 2 valores no float:', no_floats)"
   ]
  }
 ],
 "metadata": {
  "kernelspec": {
   "display_name": "Python 3",
   "language": "python",
   "name": "python3"
  },
  "language_info": {
   "codemirror_mode": {
    "name": "ipython",
    "version": 3
   },
   "file_extension": ".py",
   "mimetype": "text/x-python",
   "name": "python",
   "nbconvert_exporter": "python",
   "pygments_lexer": "ipython3",
   "version": "3.12.5"
  }
 },
 "nbformat": 4,
 "nbformat_minor": 2
}
