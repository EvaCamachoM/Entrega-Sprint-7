{
 "cells": [
  {
   "cell_type": "markdown",
   "metadata": {},
   "source": [
    "<span style=\"color: blue; font-family: Verdana; font-size: 16px; font-weight: bold;\">Exercici 1 - Nivell 1:\n",
    "\n",
    "Calculadora de l'índex de massa corporal\n",
    "\n",
    "Escriu una funció que calculi l'IMC ingressat per l'usuari/ària, és a dir, qui ho executi haurà d'ingressar aquestes dades.\n",
    "\n",
    "-> Índice de masa corporal IMC que es y como se calcula:\n",
    "\n",
    "https://muysalud.com/salud/indice-de-masa-corporal-imc-que-es-y-como-se-calcula/\n",
    "\n",
    "La funció ha de classificar el resultat en les seves respectives categories"
   ]
  },
  {
   "cell_type": "code",
   "execution_count": 8,
   "metadata": {},
   "outputs": [
    {
     "name": "stdout",
     "output_type": "stream",
     "text": [
      "Resultado IMC: 24.77\n",
      "Categoría: Peso normal.\n"
     ]
    }
   ],
   "source": [
    "def IMC(peso, altura): #función que recibe 2 parámetros: peso y altura mediante inputs del usuario, devuelve el cálculo de su IMC y lo clasifica según rango\n",
    "    imc = round(peso / (altura * altura),2) #fórmula que calcula el IMC con los parámetros facilitados\n",
    "    #estructura condicional que clasifica al usuario en una categoría según su IMC\n",
    "    if imc < 18.5: \n",
    "        categoria = 'Peso bajo.'\n",
    "    elif 18.5 <= imc < 24.9:\n",
    "        categoria = 'Peso normal.'\n",
    "    elif 25 <= imc < 29.9:\n",
    "        categoria = 'Sobrepeso.'\n",
    "    else:\n",
    "        categoria = 'Obesidad.'\n",
    "    return imc, categoria #devolución de los resultados de la función\n",
    "\n",
    "#variables para almacenar los inputs peso y altura. Formato float para poder operar con los valores.\n",
    "peso = float(input('Introduzca su peso en Kgs por favor:')) \n",
    "altura = float(input('Introduzca su altura en metros por favor:'))\n",
    "\n",
    "#devolución de los valores de las variables imc y categoría de la función IMC (linea 12 return) al bloque principal para poder imprimirlos:\n",
    "imc, categoria = IMC(peso, altura)\n",
    "\n",
    "#impresión del resultado:\n",
    "print('Resultado IMC:',imc)\n",
    "print('Categoría:',categoria)\n"
   ]
  },
  {
   "cell_type": "markdown",
   "metadata": {},
   "source": [
    "<span style=\"color: blue; font-family: Verdana; font-size: 16px; font-weight: bold;\">Exercici 2 - Nivell 1:\n",
    "\n",
    "Convertidor de temperatures.\n",
    "\n",
    "Existeixen diverses unitats de temperatura utilitzades en diferents contextos i regions. Les més comunes són Celsius (°C), Fahrenheit (°F) i Kelvin (K). També existeixen altres unitats com Rankine (°Ra) i Réaumur (°Re). Selecciona almenys 2 conversors, de tal manera que en introduir una temperatura retorni, com a mínim, dues conversions."
   ]
  },
  {
   "cell_type": "code",
   "execution_count": 9,
   "metadata": {},
   "outputs": [
    {
     "name": "stdout",
     "output_type": "stream",
     "text": [
      "Temperatura: 30.0 ºC\n",
      "Equivale a: 303.15 ºK y: 86.0 ºF\n"
     ]
    }
   ],
   "source": [
    "def conversor_temperatura(grados): #función que recibe temperatura en celsius mediante input del usuario y la devuelve en dos medidas diferentes: K y F\n",
    "    K = round(grados+273.15,2) #fórmula para convertir la temperatur de celsius a kelvin\n",
    "    F = round((grados*9/5+32),2) #fórmula para convertir la temperatura de celsius a fahrenheit\n",
    "    return K,F #devolución de los resultados\n",
    "    \n",
    "grados = float(input('Introduzca temperatura en grados Celsius')) #variable que, al ejecutar el programa, pide al usuario el primer input: la temperatura\n",
    "\n",
    "K,F = conversor_temperatura(grados) #llamada a los resultados de la función al bloque principal\n",
    "\n",
    "#impresión de lo tº en ºC introducida por el usuario y su equivalente en ºK y ºF:\n",
    "print('Temperatura:',grados,'ºC')\n",
    "print('Equivale a:',K,'ºK y:',F,'ºF')\n",
    "\n",
    "\n",
    "# FÓRMULAS:\n",
    "# 1ºC = 274.15ºK --> FÓRMULA: 1 °C + 273,15 = 274,15 K\n",
    "# 1ºC = 38.22ºF  --> FÓRMULA: (1 °C × 9 / 5) + 32) = 38.22\n"
   ]
  },
  {
   "cell_type": "markdown",
   "metadata": {},
   "source": [
    "<span style=\"color: blue; font-family: Verdana; font-size: 16px; font-weight: bold;\">Exercici 3 - Nivell 1:\n",
    "\n",
    "Comptador de paraules d'un text.\n",
    "\n",
    "Escriu una funció que donat un text, mostri les vegades que apareix cada paraula."
   ]
  },
  {
   "cell_type": "code",
   "execution_count": 3,
   "metadata": {},
   "outputs": [
    {
     "name": "stdout",
     "output_type": "stream",
     "text": [
      "me: 1\n",
      "han: 1\n",
      "dicho: 8\n",
      "que: 1\n",
      "he: 2\n",
      "un: 1\n",
      "y: 1\n",
      "ese: 1\n",
      "no: 1\n",
      "lo: 2\n",
      "yo: 2\n",
      "porque: 1\n",
      "si: 1\n",
      "hubiera: 1\n",
      "estaría: 1\n",
      "muy: 1\n",
      "bien: 1\n",
      "por: 1\n",
      "haberlo: 1\n"
     ]
    }
   ],
   "source": [
    "def contar_palabras(texto): #función contar_palabras que recibe un texto y devuelve un diccionario con el número de veces que aparece cada palabra en dicho texto\n",
    "    palabras = texto.split() #divido la cadena en subcadenas o palabras con el delimitador espacio y las guardo en la variable \"palabras\"\n",
    "    conteo = {} #diccionario para almacenar las palabras del texto y el numero de veces que aparece cada una (key:palabra;value:veces que aparece)\n",
    "    \n",
    "    #estructura para la construcción del diccionario conteo:\n",
    "    for palabra in palabras: #iteración sobre cada palabra (subcadena) de la variable palabras(linea 2). Asignación de cada palabra a la variable \"palabra\" (linea 6)\n",
    "        if palabra in conteo: #si se encuentra la palabra en el diccionario, entonces:\n",
    "            conteo[palabra] += 1 #si la palabra ya se ha añadido al diccionario (con else) se suma un 1 al contador\n",
    "        else:\n",
    "            conteo[palabra] = 1 #primera vez que se identifica cada palabra y se añade al diccionario como key y se inicia el contador (value) con un 1\n",
    "    return conteo #devolución del diccionario resultante\n",
    "\n",
    "#parámetro de la función: texto a recontar\n",
    "texto = 'me han dicho que he dicho un dicho y ese dicho no lo he dicho yo porque si lo hubiera dicho estaría muy bien dicho por haberlo dicho yo'\n",
    "\n",
    "conteo = contar_palabras(texto) #llamada al resultado de la función (contar_palabras) en el bloque principal\n",
    "\n",
    "for palabra, conteo in conteo.items(): #bucle para iterar sobre cada par (K,V) del diccionario y desempaquetarlos en 2 valores:palabra y conteo\n",
    "    print(f\"{palabra}: {conteo}\") #impresión del diccionario cambiando su formato (k:v) en vertical, facilita su visualización\n"
   ]
  },
  {
   "cell_type": "markdown",
   "metadata": {},
   "source": [
    "<span style=\"color: blue; font-family: Verdana; font-size: 16px; font-weight: bold;\">Exercici 4 - Nivell 1:\n",
    "\n",
    "Diccionari invers.\n",
    "\n",
    "Resulta que el client té una enquesta molt antiga que s'emmagatzema en un diccionari i els resultats els necessita al revés, és a dir, intercanviats les claus i els valors. Els valors i claus en el diccionari original són únics; si aquest no és el cas, la funció hauria d'imprimir un missatge d'advertiment.\n",
    "\n",
    "![Exercici_4_N1](Imagenes/Exercici_4_N1.png)"
   ]
  },
  {
   "cell_type": "code",
   "execution_count": 10,
   "metadata": {},
   "outputs": [
    {
     "name": "stdout",
     "output_type": "stream",
     "text": [
      "Diccionario original: {'nombre': 'Andres', 'edad': 45, 'email': 'andres@gmail.com', 'departamento': 'marketing'}\n",
      "Diccionario invertido: {'Andres': 'nombre', 45: 'edad', 'andres@gmail.com': 'email', 'marketing': 'departamento'}\n"
     ]
    }
   ],
   "source": [
    "#Primer supuesto sin duplicados:\n",
    "\n",
    "dic_clientes = {'nombre': 'Andres',\n",
    "                'edad': 45,\n",
    "                'email': 'andres@gmail.com',\n",
    "                 'departamento': 'marketing'}\n",
    "\n",
    "print('Diccionario original:',dic_clientes)\n",
    "\n",
    "\n",
    "def dic_invertido(dic_clientes): #devuelve un diccionario con las claves y valores invertidos. Si hay valores duplicados imprime mensaje de error\n",
    "    valores_unicos = set()  #creo variable que contiene conjunto vacío para almacenar valores únicos\n",
    "    for value in dic_clientes.values(): #bucle que recorre los valores del diccionario, en cada iteración:\n",
    "        if value not in valores_unicos: #si los valores no se encuentran en el conjunto, los añade:\n",
    "            valores_unicos.add(value)\n",
    "        else: #de lo contrario (repetido), devuelve None y sale de la función:\n",
    "            return None\n",
    "            \n",
    "    #si no se encuentran duplicados, creación del nuevo diccionario invertido:\n",
    "    dic_invertido = {value: key for key, value in dic_clientes.items()}\n",
    "    return dic_invertido #y se devuelve el diccionario invertido como resultado de la función.\n",
    "\n",
    "resultado = dic_invertido(dic_clientes) #llamada al resultado de la función (dic_invertido) en el bloque principal\n",
    "\n",
    "#estructura de control para definir la impresión de los mensajes de salida:\n",
    "if resultado != None: #si el resultado es diferente a None, significa que no hay duplicados y entonces imprime el diciconario invertido:\n",
    "    print('Diccionario invertido:', resultado)\n",
    "else: #de lo contrario, si encuentra duplicados, entonces imprime mensaje de error:\n",
    "    print('Error: más de una clave para el mismo valor.')"
   ]
  },
  {
   "cell_type": "code",
   "execution_count": 5,
   "metadata": {},
   "outputs": [
    {
     "name": "stdout",
     "output_type": "stream",
     "text": [
      "Diccionario original: {'nombre': 'Andres', 'edad': 45, 'edad2': 45, 'email': 'andres@gmail.com', 'departamento': 'marketing'}\n",
      "Error: más de una clave para el mismo valor.\n"
     ]
    }
   ],
   "source": [
    "#segundo supuesto con duplicados:\n",
    "\n",
    "dic_clientes2 = {'nombre': 'Andres',\n",
    "                'edad': 45,\n",
    "                'edad2':45,\n",
    "                'email': 'andres@gmail.com',\n",
    "                 'departamento': 'marketing'}\n",
    "\n",
    "print('Diccionario original:',dic_clientes2)\n",
    "\n",
    "resultado = dic_invertido(dic_clientes2) #llamada al resultado de la función (dic_invertido) en el bloque principal\n",
    "\n",
    "#estructura de control para definir la impresión los mensajes de salida:\n",
    "if resultado != None: #si el resultado es diferente a None, significa que no hay duplicados y entonces imprime el diciconario invertido:\n",
    "    print('Diccionario invertido:', resultado)\n",
    "else: #de lo contrario, si encuentra duplicados, entonces imprime mensaje de error:\n",
    "    print('Error: más de una clave para el mismo valor.')"
   ]
  },
  {
   "cell_type": "markdown",
   "metadata": {},
   "source": [
    "<span style=\"color: blue; font-family: Verdana; font-size: 16px; font-weight: bold;\">Exercici 1 - Nivell 2:\n",
    "\n",
    "Diccionari invers amb duplicats.\n",
    "\n",
    "Continuant amb l'exercici 4 del nivell 1: el client es va oblidar de comentar un detall i resulta que els valors en el diccionari original poden duplicar-se i més, per la qual cosa les claus intercanviades poden tenir duplicats. En aquest cas, en l'exercici anterior imprimies un missatge d'advertiment, ara, els valors del diccionari resultant hauran d'emmagatzemar-se com una llista. Tingues en compte que si és un valor únic no ha de ser una llista.\n",
    "\n",
    "![Exercici_1_N2](Imagenes/Exercici_1_N2.png)"
   ]
  },
  {
   "cell_type": "code",
   "execution_count": 6,
   "metadata": {},
   "outputs": [
    {
     "name": "stdout",
     "output_type": "stream",
     "text": [
      "Diccionario original: {'nombre': 'Andres', 'edad': 45, 'edad2': 45, 'email': 'andres@gmail.com', 'departamento': 'marketing'}\n",
      "Diccionario invertido: {'Andres': 'nombre', 45: ['edad', 'edad2'], 'andres@gmail.com': 'email', 'marketing': 'departamento'}\n"
     ]
    }
   ],
   "source": [
    "dic_clientes2 = {'nombre': 'Andres','edad': 45,'edad2': 45,'email': 'andres@gmail.com','departamento': 'marketing'}\n",
    "\n",
    "print('Diccionario original:', dic_clientes2)\n",
    "\n",
    "def dic_invertido2(dic_clientes2): #invierte las claves y valores de un diccionario, y si encuentra valores duplicados, los agrupa en una lista\n",
    "    dic_invertido2 = {} #nueva variable vacía donde se almacenarán los valores invertidos\n",
    "    for key, value in dic_clientes2.items(): #inicia un bucle y recorre cada par k:v del diccionario original dic_clientes2\n",
    "        if value in dic_invertido2: #si el valor ya existe como clave en el diccionario invertido es un valor duplicado y se asocia a una lista\n",
    "            if isinstance(dic_invertido2[value], list): #si el valor ya ha sido detectado como duplicado y asociado a una lista, entonces:\n",
    "                dic_invertido2[value].append(key)  #se añade la clave a la lista existente\n",
    "            else: #si el valor no se detecta como duplicado (es la primera vez que se itera y se detecta):\n",
    "                dic_invertido2[value] = [dic_invertido2[value], key] #convierte el valor existente en una lista incluyendo la clave anterior y la actual key\n",
    "        else: #si el valor no existe en dic_invertido2 (va con linea 8):\n",
    "            dic_invertido2[value] = key #se agrega como clave al diccionario invertido y se asigna clave original como valor\n",
    "    return dic_invertido2\n",
    "\n",
    "resultado = dic_invertido2(dic_clientes2) #llamada al bloque principal del código el resultado de la función\n",
    "print('Diccionario invertido:', resultado)"
   ]
  },
  {
   "cell_type": "markdown",
   "metadata": {},
   "source": [
    "<span style=\"color: blue; font-family: Verdana; font-size: 16px; font-weight: bold;\">Exercici 2 - Nivell 2:\n",
    "\n",
    "Conversió de tipus de dades.\n",
    "\n",
    "El client rep una llista de dades i necessita generar dues llistes, la primera on estaran tots els elements que es van poder convertir en flotants i l'altra on estan els elements que no es van poder convertir. Exemple de la llista que rep el client: \n",
    "\n",
    "conversion = [ '1.3', 'one' , '1e10' , 'seven', '3-1/2', ('2',1,1.4,'not-a-number'), [1,2,'3','3.4']]\n",
    "\n",
    "![Exercici_2_N2](Imagenes/Exercici_2_N2.png)"
   ]
  },
  {
   "cell_type": "code",
   "execution_count": null,
   "metadata": {},
   "outputs": [
    {
     "name": "stdout",
     "output_type": "stream",
     "text": [
      "Lista original: ['1.3', 'one', '1e10', 'seven', '3-1/2', ('2', 1, 1.4, 'not-a-number'), [1, 2, '3', '3.4']]\n",
      "Lista 1 valores float: [1.3, 10000000000.0, 2.0, 1.0, 1.4, 1.0, 2.0, 3.0, 3.4]\n",
      "Lista 2 valores no float: ['one', 'seven', '3-1/2', 'not-a-number']\n"
     ]
    }
   ],
   "source": [
    "conversion = ['1.3', 'one', '1e10', 'seven', '3-1/2', ('2', 1, 1.4, 'not-a-number'), [1, 2, '3', '3.4']]\n",
    "print('Lista original:', conversion)\n",
    "\n",
    "floats = []\n",
    "no_floats = []\n",
    "\n",
    "def convertirF(conversion): #recibe una lista, la analiza y devuelve dos listas: una con elementos convertibles en float y otra con el resto.\n",
    "    while conversion: #bucle para iterar sobre la lista conversion\n",
    "        elemento = conversion.pop(0)  #extrae el primer elemento de la lista \n",
    "        try:\n",
    "            floats.append(float(elemento)) #intenta añadir a la variable floats los elementos conviertendolos a formato float\n",
    "        except (ValueError, TypeError): #si se produce un error en el intento de conversión, entonces:\n",
    "            if isinstance(elemento, (list, tuple)): #verifica si es una lista o una tupla anidadas y:\n",
    "                conversion.extend(elemento) #añade sus subelementos individualmente a la lista \"elemento\" para iterarlos\n",
    "            else: #si los subelementos añadidos no son convertibles:\n",
    "                no_floats.append(elemento) #los añade a no_floats  \n",
    "\n",
    "    return floats, no_floats #devuelve las dos listas resultantes\n",
    "\n",
    "\n",
    "convertirF(conversion) #llamada a la función\n",
    "\n",
    "\n",
    "print('Lista 1 valores float:', floats)\n",
    "print('Lista 2 valores no float:', no_floats)"
   ]
  }
 ],
 "metadata": {
  "kernelspec": {
   "display_name": "Python 3",
   "language": "python",
   "name": "python3"
  },
  "language_info": {
   "codemirror_mode": {
    "name": "ipython",
    "version": 3
   },
   "file_extension": ".py",
   "mimetype": "text/x-python",
   "name": "python",
   "nbconvert_exporter": "python",
   "pygments_lexer": "ipython3",
   "version": "3.12.5"
  }
 },
 "nbformat": 4,
 "nbformat_minor": 2
}
